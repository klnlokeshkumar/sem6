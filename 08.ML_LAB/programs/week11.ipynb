{
 "cells": [
  {
   "cell_type": "markdown",
   "metadata": {},
   "source": [
    "# KNN"
   ]
  },
  {
   "cell_type": "markdown",
   "metadata": {},
   "source": [
    "### importing modules"
   ]
  },
  {
   "cell_type": "code",
   "execution_count": 33,
   "metadata": {},
   "outputs": [],
   "source": [
    "import pandas as pd\n",
    "import numpy as np\n",
    "from sklearn.model_selection import train_test_split\n",
    "from sklearn.neighbors import KNeighborsClassifier\n",
    "from sklearn.metrics import accuracy_score"
   ]
  },
  {
   "cell_type": "markdown",
   "metadata": {},
   "source": [
    "### Loading dataset"
   ]
  },
  {
   "cell_type": "code",
   "execution_count": 34,
   "metadata": {},
   "outputs": [],
   "source": [
    "df = pd.read_csv('student.csv')\n",
    "X = df[['Id', 'Weekly_Study_Hours']]\n",
    "Y = df['Student_Age']"
   ]
  },
  {
   "cell_type": "markdown",
   "metadata": {},
   "source": [
    "### splitting data"
   ]
  },
  {
   "cell_type": "code",
   "execution_count": 35,
   "metadata": {},
   "outputs": [],
   "source": [
    "X_train, X_test, Y_train, Y_test = train_test_split(X, Y, test_size=0.25, random_state=100)"
   ]
  },
  {
   "cell_type": "markdown",
   "metadata": {},
   "source": [
    "### Applying Classifier"
   ]
  },
  {
   "cell_type": "code",
   "execution_count": 36,
   "metadata": {},
   "outputs": [
    {
     "name": "stdout",
     "output_type": "stream",
     "text": [
      "[19 18 20 18 21 22 18 18 18 19 18 21 18 18 21 19 18 18 18 18 18 18 18 18\n",
      " 18 18 18 21 18 18 21 18 18 20 18 18 18]\n",
      "29     19\n",
      "111    18\n",
      "88     18\n",
      "105    18\n",
      "117    26\n",
      "62     21\n",
      "104    18\n",
      "11     18\n",
      "32     19\n",
      "28     24\n",
      "15     22\n",
      "37     20\n",
      "144    18\n",
      "110    22\n",
      "40     18\n",
      "26     20\n",
      "51     19\n",
      "73     21\n",
      "95     18\n",
      "140    22\n",
      "120    21\n",
      "127    18\n",
      "106    18\n",
      "97     18\n",
      "134    18\n",
      "102    18\n",
      "77     18\n",
      "112    20\n",
      "131    18\n",
      "46     19\n",
      "114    21\n",
      "90     22\n",
      "126    18\n",
      "85     18\n",
      "6      18\n",
      "25     20\n",
      "21     18\n",
      "Name: Student_Age, dtype: int64\n"
     ]
    }
   ],
   "source": [
    "knn = KNeighborsClassifier()\n",
    "knn.fit(X_train, Y_train)\n",
    "Y_predict = knn.predict(X_test)\n",
    "print(Y_predict)\n",
    "print(Y_test)\n",
    "# Y_test = np.array(Y_test)\n",
    "# print(Y_test)\n"
   ]
  },
  {
   "cell_type": "markdown",
   "metadata": {},
   "source": [
    "### Correct and Wrong predictions"
   ]
  },
  {
   "cell_type": "code",
   "execution_count": 37,
   "metadata": {},
   "outputs": [
    {
     "name": "stdout",
     "output_type": "stream",
     "text": [
      "Correct : Actual = 19, Predicted = 19\n",
      "Correct : Actual = 18, Predicted = 18\n",
      "Wrong : Actual = 18, Predicted = 20\n",
      "Correct : Actual = 18, Predicted = 18\n",
      "Wrong : Actual = 26, Predicted = 21\n",
      "Wrong : Actual = 21, Predicted = 22\n",
      "Correct : Actual = 18, Predicted = 18\n",
      "Correct : Actual = 18, Predicted = 18\n",
      "Wrong : Actual = 19, Predicted = 18\n",
      "Wrong : Actual = 24, Predicted = 19\n",
      "Wrong : Actual = 22, Predicted = 18\n",
      "Wrong : Actual = 20, Predicted = 21\n",
      "Correct : Actual = 18, Predicted = 18\n",
      "Wrong : Actual = 22, Predicted = 18\n",
      "Wrong : Actual = 18, Predicted = 21\n",
      "Wrong : Actual = 20, Predicted = 19\n",
      "Wrong : Actual = 19, Predicted = 18\n",
      "Wrong : Actual = 21, Predicted = 18\n",
      "Correct : Actual = 18, Predicted = 18\n",
      "Wrong : Actual = 22, Predicted = 18\n",
      "Wrong : Actual = 21, Predicted = 18\n",
      "Correct : Actual = 18, Predicted = 18\n",
      "Correct : Actual = 18, Predicted = 18\n",
      "Correct : Actual = 18, Predicted = 18\n",
      "Correct : Actual = 18, Predicted = 18\n",
      "Correct : Actual = 18, Predicted = 18\n",
      "Correct : Actual = 18, Predicted = 18\n",
      "Wrong : Actual = 20, Predicted = 21\n",
      "Correct : Actual = 18, Predicted = 18\n",
      "Wrong : Actual = 19, Predicted = 18\n",
      "Correct : Actual = 21, Predicted = 21\n",
      "Wrong : Actual = 22, Predicted = 18\n",
      "Correct : Actual = 18, Predicted = 18\n",
      "Wrong : Actual = 18, Predicted = 20\n",
      "Correct : Actual = 18, Predicted = 18\n",
      "Wrong : Actual = 20, Predicted = 18\n",
      "Correct : Actual = 18, Predicted = 18\n"
     ]
    }
   ],
   "source": [
    "correct_p, wrong_p = 0, 0\n",
    "Y_testArray = np.array(Y_test)\n",
    "for i in range(len(Y_predict)):\n",
    "    if Y_predict[i] == Y_testArray[i]:\n",
    "        print(f\"Correct : Actual = {Y_testArray[i]}, Predicted = {Y_predict[i]}\")\n",
    "        correct_p += 1\n",
    "    else :\n",
    "        print(f\"Wrong : Actual = {Y_testArray[i]}, Predicted = {Y_predict[i]}\")\n",
    "        wrong_p += 1"
   ]
  },
  {
   "cell_type": "markdown",
   "metadata": {},
   "source": [
    "### Metrics "
   ]
  },
  {
   "cell_type": "code",
   "execution_count": 39,
   "metadata": {},
   "outputs": [
    {
     "name": "stdout",
     "output_type": "stream",
     "text": [
      "0.4864864864864865 18 19\n"
     ]
    }
   ],
   "source": [
    "accuracy = accuracy_score(Y_test, Y_predict)\n",
    "print(accuracy, correct_p, wrong_p)"
   ]
  }
 ],
 "metadata": {
  "kernelspec": {
   "display_name": "Python 3",
   "language": "python",
   "name": "python3"
  },
  "language_info": {
   "codemirror_mode": {
    "name": "ipython",
    "version": 3
   },
   "file_extension": ".py",
   "mimetype": "text/x-python",
   "name": "python",
   "nbconvert_exporter": "python",
   "pygments_lexer": "ipython3",
   "version": "3.11.8"
  }
 },
 "nbformat": 4,
 "nbformat_minor": 2
}

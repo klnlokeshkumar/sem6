{
 "cells": [
  {
   "cell_type": "markdown",
   "metadata": {},
   "source": [
    "# SVM Classifier"
   ]
  },
  {
   "cell_type": "markdown",
   "metadata": {},
   "source": [
    "### Importing Modules"
   ]
  },
  {
   "cell_type": "code",
   "execution_count": 1,
   "metadata": {},
   "outputs": [],
   "source": [
    "import pandas as pd\n",
    "import matplotlib.pyplot as plt\n",
    "from sklearn.model_selection import train_test_split\n",
    "from sklearn.svm import SVR"
   ]
  },
  {
   "cell_type": "markdown",
   "metadata": {},
   "source": [
    "### Loading dataset"
   ]
  },
  {
   "cell_type": "code",
   "execution_count": 13,
   "metadata": {},
   "outputs": [
    {
     "name": "stdout",
     "output_type": "stream",
     "text": [
      "   Unnamed: 0    Id  Student_Age     Sex High_School_Type Scholarship  \\\n",
      "0           0  5001           21    Male            Other         50%   \n",
      "1           1  5002           20    Male            Other         50%   \n",
      "2           2  5003           21    Male            State         50%   \n",
      "3           3  5004           18  Female          Private         50%   \n",
      "4           4  5005           22    Male          Private         50%   \n",
      "\n",
      "  Additional_Work Sports_activity Transportation  Weekly_Study_Hours  \\\n",
      "0             Yes              No        Private                   0   \n",
      "1             Yes              No        Private                   0   \n",
      "2              No              No        Private                   2   \n",
      "3             Yes              No            Bus                   2   \n",
      "4              No              No            Bus                  12   \n",
      "\n",
      "  Attendance Reading Notes Listening_in_Class Project_work Grade  \n",
      "0     Always     Yes   Yes                 No           No    AA  \n",
      "1     Always     Yes    No                Yes          Yes    AA  \n",
      "2      Never      No    No                 No          Yes    AA  \n",
      "3     Always      No   Yes                 No           No    AA  \n",
      "4     Always     Yes    No                Yes          Yes    AA  \n"
     ]
    }
   ],
   "source": [
    "df = pd.read_csv(\"student.csv\")\n",
    "print(df.head())\n",
    "X = df[['Id', 'Weekly_Study_Hours']]\n",
    "Y = df['Student_Age']"
   ]
  },
  {
   "cell_type": "code",
   "execution_count": 14,
   "metadata": {},
   "outputs": [],
   "source": [
    "X_train, X_test, Y_train, Y_test = train_test_split(X, Y, test_size=0.25, random_state=100)"
   ]
  },
  {
   "cell_type": "code",
   "execution_count": 16,
   "metadata": {},
   "outputs": [
    {
     "data": {
      "text/plain": [
       "0.5135135135135135"
      ]
     },
     "execution_count": 16,
     "metadata": {},
     "output_type": "execute_result"
    }
   ],
   "source": [
    "model = SVC(C=10)\n",
    "model.fit(X_train, Y_train)\n",
    "Y_predict = model.predict(X_test)\n",
    "model.score(X_test, Y_test)"
   ]
  }
 ],
 "metadata": {
  "kernelspec": {
   "display_name": "Python 3",
   "language": "python",
   "name": "python3"
  },
  "language_info": {
   "codemirror_mode": {
    "name": "ipython",
    "version": 3
   },
   "file_extension": ".py",
   "mimetype": "text/x-python",
   "name": "python",
   "nbconvert_exporter": "python",
   "pygments_lexer": "ipython3",
   "version": "3.11.8"
  }
 },
 "nbformat": 4,
 "nbformat_minor": 2
}

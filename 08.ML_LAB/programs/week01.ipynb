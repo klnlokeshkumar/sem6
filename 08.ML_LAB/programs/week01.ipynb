{
 "cells": [
  {
   "cell_type": "markdown",
   "metadata": {},
   "source": [
    "Reading CSV file"
   ]
  },
  {
   "cell_type": "code",
   "execution_count": 1,
   "metadata": {},
   "outputs": [
    {
     "ename": "FileNotFoundError",
     "evalue": "[Errno 2] No such file or directory: 'housing_price_dataset.csv'",
     "output_type": "error",
     "traceback": [
      "\u001b[1;31m---------------------------------------------------------------------------\u001b[0m",
      "\u001b[1;31mFileNotFoundError\u001b[0m                         Traceback (most recent call last)",
      "Cell \u001b[1;32mIn[1], line 4\u001b[0m\n\u001b[0;32m      1\u001b[0m \u001b[38;5;28;01mimport\u001b[39;00m \u001b[38;5;21;01mnumpy\u001b[39;00m \u001b[38;5;28;01mas\u001b[39;00m \u001b[38;5;21;01mnp\u001b[39;00m \n\u001b[0;32m      2\u001b[0m \u001b[38;5;28;01mimport\u001b[39;00m \u001b[38;5;21;01mpandas\u001b[39;00m \u001b[38;5;28;01mas\u001b[39;00m \u001b[38;5;21;01mpd\u001b[39;00m \n\u001b[1;32m----> 4\u001b[0m csvfile \u001b[38;5;241m=\u001b[39m \u001b[43mpd\u001b[49m\u001b[38;5;241;43m.\u001b[39;49m\u001b[43mread_csv\u001b[49m\u001b[43m(\u001b[49m\u001b[38;5;124;43m'\u001b[39;49m\u001b[38;5;124;43mhousing_price_dataset.csv\u001b[39;49m\u001b[38;5;124;43m'\u001b[39;49m\u001b[43m)\u001b[49m\n\u001b[0;32m      5\u001b[0m \u001b[38;5;28mprint\u001b[39m(csvfile\u001b[38;5;241m.\u001b[39mhead(\u001b[38;5;241m6\u001b[39m), \u001b[38;5;124m\"\u001b[39m\u001b[38;5;130;01m\\n\u001b[39;00m\u001b[38;5;130;01m\\n\u001b[39;00m\u001b[38;5;124m\"\u001b[39m)\n\u001b[0;32m      6\u001b[0m \u001b[38;5;66;03m# print(csvfile.describe(include= \"all\"), \"\\n\\n\")\u001b[39;00m\n",
      "File \u001b[1;32m~\\AppData\\Local\\Packages\\PythonSoftwareFoundation.Python.3.11_qbz5n2kfra8p0\\LocalCache\\local-packages\\Python311\\site-packages\\pandas\\io\\parsers\\readers.py:1026\u001b[0m, in \u001b[0;36mread_csv\u001b[1;34m(filepath_or_buffer, sep, delimiter, header, names, index_col, usecols, dtype, engine, converters, true_values, false_values, skipinitialspace, skiprows, skipfooter, nrows, na_values, keep_default_na, na_filter, verbose, skip_blank_lines, parse_dates, infer_datetime_format, keep_date_col, date_parser, date_format, dayfirst, cache_dates, iterator, chunksize, compression, thousands, decimal, lineterminator, quotechar, quoting, doublequote, escapechar, comment, encoding, encoding_errors, dialect, on_bad_lines, delim_whitespace, low_memory, memory_map, float_precision, storage_options, dtype_backend)\u001b[0m\n\u001b[0;32m   1013\u001b[0m kwds_defaults \u001b[38;5;241m=\u001b[39m _refine_defaults_read(\n\u001b[0;32m   1014\u001b[0m     dialect,\n\u001b[0;32m   1015\u001b[0m     delimiter,\n\u001b[1;32m   (...)\u001b[0m\n\u001b[0;32m   1022\u001b[0m     dtype_backend\u001b[38;5;241m=\u001b[39mdtype_backend,\n\u001b[0;32m   1023\u001b[0m )\n\u001b[0;32m   1024\u001b[0m kwds\u001b[38;5;241m.\u001b[39mupdate(kwds_defaults)\n\u001b[1;32m-> 1026\u001b[0m \u001b[38;5;28;01mreturn\u001b[39;00m \u001b[43m_read\u001b[49m\u001b[43m(\u001b[49m\u001b[43mfilepath_or_buffer\u001b[49m\u001b[43m,\u001b[49m\u001b[43m \u001b[49m\u001b[43mkwds\u001b[49m\u001b[43m)\u001b[49m\n",
      "File \u001b[1;32m~\\AppData\\Local\\Packages\\PythonSoftwareFoundation.Python.3.11_qbz5n2kfra8p0\\LocalCache\\local-packages\\Python311\\site-packages\\pandas\\io\\parsers\\readers.py:620\u001b[0m, in \u001b[0;36m_read\u001b[1;34m(filepath_or_buffer, kwds)\u001b[0m\n\u001b[0;32m    617\u001b[0m _validate_names(kwds\u001b[38;5;241m.\u001b[39mget(\u001b[38;5;124m\"\u001b[39m\u001b[38;5;124mnames\u001b[39m\u001b[38;5;124m\"\u001b[39m, \u001b[38;5;28;01mNone\u001b[39;00m))\n\u001b[0;32m    619\u001b[0m \u001b[38;5;66;03m# Create the parser.\u001b[39;00m\n\u001b[1;32m--> 620\u001b[0m parser \u001b[38;5;241m=\u001b[39m \u001b[43mTextFileReader\u001b[49m\u001b[43m(\u001b[49m\u001b[43mfilepath_or_buffer\u001b[49m\u001b[43m,\u001b[49m\u001b[43m \u001b[49m\u001b[38;5;241;43m*\u001b[39;49m\u001b[38;5;241;43m*\u001b[39;49m\u001b[43mkwds\u001b[49m\u001b[43m)\u001b[49m\n\u001b[0;32m    622\u001b[0m \u001b[38;5;28;01mif\u001b[39;00m chunksize \u001b[38;5;129;01mor\u001b[39;00m iterator:\n\u001b[0;32m    623\u001b[0m     \u001b[38;5;28;01mreturn\u001b[39;00m parser\n",
      "File \u001b[1;32m~\\AppData\\Local\\Packages\\PythonSoftwareFoundation.Python.3.11_qbz5n2kfra8p0\\LocalCache\\local-packages\\Python311\\site-packages\\pandas\\io\\parsers\\readers.py:1620\u001b[0m, in \u001b[0;36mTextFileReader.__init__\u001b[1;34m(self, f, engine, **kwds)\u001b[0m\n\u001b[0;32m   1617\u001b[0m     \u001b[38;5;28mself\u001b[39m\u001b[38;5;241m.\u001b[39moptions[\u001b[38;5;124m\"\u001b[39m\u001b[38;5;124mhas_index_names\u001b[39m\u001b[38;5;124m\"\u001b[39m] \u001b[38;5;241m=\u001b[39m kwds[\u001b[38;5;124m\"\u001b[39m\u001b[38;5;124mhas_index_names\u001b[39m\u001b[38;5;124m\"\u001b[39m]\n\u001b[0;32m   1619\u001b[0m \u001b[38;5;28mself\u001b[39m\u001b[38;5;241m.\u001b[39mhandles: IOHandles \u001b[38;5;241m|\u001b[39m \u001b[38;5;28;01mNone\u001b[39;00m \u001b[38;5;241m=\u001b[39m \u001b[38;5;28;01mNone\u001b[39;00m\n\u001b[1;32m-> 1620\u001b[0m \u001b[38;5;28mself\u001b[39m\u001b[38;5;241m.\u001b[39m_engine \u001b[38;5;241m=\u001b[39m \u001b[38;5;28;43mself\u001b[39;49m\u001b[38;5;241;43m.\u001b[39;49m\u001b[43m_make_engine\u001b[49m\u001b[43m(\u001b[49m\u001b[43mf\u001b[49m\u001b[43m,\u001b[49m\u001b[43m \u001b[49m\u001b[38;5;28;43mself\u001b[39;49m\u001b[38;5;241;43m.\u001b[39;49m\u001b[43mengine\u001b[49m\u001b[43m)\u001b[49m\n",
      "File \u001b[1;32m~\\AppData\\Local\\Packages\\PythonSoftwareFoundation.Python.3.11_qbz5n2kfra8p0\\LocalCache\\local-packages\\Python311\\site-packages\\pandas\\io\\parsers\\readers.py:1880\u001b[0m, in \u001b[0;36mTextFileReader._make_engine\u001b[1;34m(self, f, engine)\u001b[0m\n\u001b[0;32m   1878\u001b[0m     \u001b[38;5;28;01mif\u001b[39;00m \u001b[38;5;124m\"\u001b[39m\u001b[38;5;124mb\u001b[39m\u001b[38;5;124m\"\u001b[39m \u001b[38;5;129;01mnot\u001b[39;00m \u001b[38;5;129;01min\u001b[39;00m mode:\n\u001b[0;32m   1879\u001b[0m         mode \u001b[38;5;241m+\u001b[39m\u001b[38;5;241m=\u001b[39m \u001b[38;5;124m\"\u001b[39m\u001b[38;5;124mb\u001b[39m\u001b[38;5;124m\"\u001b[39m\n\u001b[1;32m-> 1880\u001b[0m \u001b[38;5;28mself\u001b[39m\u001b[38;5;241m.\u001b[39mhandles \u001b[38;5;241m=\u001b[39m \u001b[43mget_handle\u001b[49m\u001b[43m(\u001b[49m\n\u001b[0;32m   1881\u001b[0m \u001b[43m    \u001b[49m\u001b[43mf\u001b[49m\u001b[43m,\u001b[49m\n\u001b[0;32m   1882\u001b[0m \u001b[43m    \u001b[49m\u001b[43mmode\u001b[49m\u001b[43m,\u001b[49m\n\u001b[0;32m   1883\u001b[0m \u001b[43m    \u001b[49m\u001b[43mencoding\u001b[49m\u001b[38;5;241;43m=\u001b[39;49m\u001b[38;5;28;43mself\u001b[39;49m\u001b[38;5;241;43m.\u001b[39;49m\u001b[43moptions\u001b[49m\u001b[38;5;241;43m.\u001b[39;49m\u001b[43mget\u001b[49m\u001b[43m(\u001b[49m\u001b[38;5;124;43m\"\u001b[39;49m\u001b[38;5;124;43mencoding\u001b[39;49m\u001b[38;5;124;43m\"\u001b[39;49m\u001b[43m,\u001b[49m\u001b[43m \u001b[49m\u001b[38;5;28;43;01mNone\u001b[39;49;00m\u001b[43m)\u001b[49m\u001b[43m,\u001b[49m\n\u001b[0;32m   1884\u001b[0m \u001b[43m    \u001b[49m\u001b[43mcompression\u001b[49m\u001b[38;5;241;43m=\u001b[39;49m\u001b[38;5;28;43mself\u001b[39;49m\u001b[38;5;241;43m.\u001b[39;49m\u001b[43moptions\u001b[49m\u001b[38;5;241;43m.\u001b[39;49m\u001b[43mget\u001b[49m\u001b[43m(\u001b[49m\u001b[38;5;124;43m\"\u001b[39;49m\u001b[38;5;124;43mcompression\u001b[39;49m\u001b[38;5;124;43m\"\u001b[39;49m\u001b[43m,\u001b[49m\u001b[43m \u001b[49m\u001b[38;5;28;43;01mNone\u001b[39;49;00m\u001b[43m)\u001b[49m\u001b[43m,\u001b[49m\n\u001b[0;32m   1885\u001b[0m \u001b[43m    \u001b[49m\u001b[43mmemory_map\u001b[49m\u001b[38;5;241;43m=\u001b[39;49m\u001b[38;5;28;43mself\u001b[39;49m\u001b[38;5;241;43m.\u001b[39;49m\u001b[43moptions\u001b[49m\u001b[38;5;241;43m.\u001b[39;49m\u001b[43mget\u001b[49m\u001b[43m(\u001b[49m\u001b[38;5;124;43m\"\u001b[39;49m\u001b[38;5;124;43mmemory_map\u001b[39;49m\u001b[38;5;124;43m\"\u001b[39;49m\u001b[43m,\u001b[49m\u001b[43m \u001b[49m\u001b[38;5;28;43;01mFalse\u001b[39;49;00m\u001b[43m)\u001b[49m\u001b[43m,\u001b[49m\n\u001b[0;32m   1886\u001b[0m \u001b[43m    \u001b[49m\u001b[43mis_text\u001b[49m\u001b[38;5;241;43m=\u001b[39;49m\u001b[43mis_text\u001b[49m\u001b[43m,\u001b[49m\n\u001b[0;32m   1887\u001b[0m \u001b[43m    \u001b[49m\u001b[43merrors\u001b[49m\u001b[38;5;241;43m=\u001b[39;49m\u001b[38;5;28;43mself\u001b[39;49m\u001b[38;5;241;43m.\u001b[39;49m\u001b[43moptions\u001b[49m\u001b[38;5;241;43m.\u001b[39;49m\u001b[43mget\u001b[49m\u001b[43m(\u001b[49m\u001b[38;5;124;43m\"\u001b[39;49m\u001b[38;5;124;43mencoding_errors\u001b[39;49m\u001b[38;5;124;43m\"\u001b[39;49m\u001b[43m,\u001b[49m\u001b[43m \u001b[49m\u001b[38;5;124;43m\"\u001b[39;49m\u001b[38;5;124;43mstrict\u001b[39;49m\u001b[38;5;124;43m\"\u001b[39;49m\u001b[43m)\u001b[49m\u001b[43m,\u001b[49m\n\u001b[0;32m   1888\u001b[0m \u001b[43m    \u001b[49m\u001b[43mstorage_options\u001b[49m\u001b[38;5;241;43m=\u001b[39;49m\u001b[38;5;28;43mself\u001b[39;49m\u001b[38;5;241;43m.\u001b[39;49m\u001b[43moptions\u001b[49m\u001b[38;5;241;43m.\u001b[39;49m\u001b[43mget\u001b[49m\u001b[43m(\u001b[49m\u001b[38;5;124;43m\"\u001b[39;49m\u001b[38;5;124;43mstorage_options\u001b[39;49m\u001b[38;5;124;43m\"\u001b[39;49m\u001b[43m,\u001b[49m\u001b[43m \u001b[49m\u001b[38;5;28;43;01mNone\u001b[39;49;00m\u001b[43m)\u001b[49m\u001b[43m,\u001b[49m\n\u001b[0;32m   1889\u001b[0m \u001b[43m\u001b[49m\u001b[43m)\u001b[49m\n\u001b[0;32m   1890\u001b[0m \u001b[38;5;28;01massert\u001b[39;00m \u001b[38;5;28mself\u001b[39m\u001b[38;5;241m.\u001b[39mhandles \u001b[38;5;129;01mis\u001b[39;00m \u001b[38;5;129;01mnot\u001b[39;00m \u001b[38;5;28;01mNone\u001b[39;00m\n\u001b[0;32m   1891\u001b[0m f \u001b[38;5;241m=\u001b[39m \u001b[38;5;28mself\u001b[39m\u001b[38;5;241m.\u001b[39mhandles\u001b[38;5;241m.\u001b[39mhandle\n",
      "File \u001b[1;32m~\\AppData\\Local\\Packages\\PythonSoftwareFoundation.Python.3.11_qbz5n2kfra8p0\\LocalCache\\local-packages\\Python311\\site-packages\\pandas\\io\\common.py:873\u001b[0m, in \u001b[0;36mget_handle\u001b[1;34m(path_or_buf, mode, encoding, compression, memory_map, is_text, errors, storage_options)\u001b[0m\n\u001b[0;32m    868\u001b[0m \u001b[38;5;28;01melif\u001b[39;00m \u001b[38;5;28misinstance\u001b[39m(handle, \u001b[38;5;28mstr\u001b[39m):\n\u001b[0;32m    869\u001b[0m     \u001b[38;5;66;03m# Check whether the filename is to be opened in binary mode.\u001b[39;00m\n\u001b[0;32m    870\u001b[0m     \u001b[38;5;66;03m# Binary mode does not support 'encoding' and 'newline'.\u001b[39;00m\n\u001b[0;32m    871\u001b[0m     \u001b[38;5;28;01mif\u001b[39;00m ioargs\u001b[38;5;241m.\u001b[39mencoding \u001b[38;5;129;01mand\u001b[39;00m \u001b[38;5;124m\"\u001b[39m\u001b[38;5;124mb\u001b[39m\u001b[38;5;124m\"\u001b[39m \u001b[38;5;129;01mnot\u001b[39;00m \u001b[38;5;129;01min\u001b[39;00m ioargs\u001b[38;5;241m.\u001b[39mmode:\n\u001b[0;32m    872\u001b[0m         \u001b[38;5;66;03m# Encoding\u001b[39;00m\n\u001b[1;32m--> 873\u001b[0m         handle \u001b[38;5;241m=\u001b[39m \u001b[38;5;28;43mopen\u001b[39;49m\u001b[43m(\u001b[49m\n\u001b[0;32m    874\u001b[0m \u001b[43m            \u001b[49m\u001b[43mhandle\u001b[49m\u001b[43m,\u001b[49m\n\u001b[0;32m    875\u001b[0m \u001b[43m            \u001b[49m\u001b[43mioargs\u001b[49m\u001b[38;5;241;43m.\u001b[39;49m\u001b[43mmode\u001b[49m\u001b[43m,\u001b[49m\n\u001b[0;32m    876\u001b[0m \u001b[43m            \u001b[49m\u001b[43mencoding\u001b[49m\u001b[38;5;241;43m=\u001b[39;49m\u001b[43mioargs\u001b[49m\u001b[38;5;241;43m.\u001b[39;49m\u001b[43mencoding\u001b[49m\u001b[43m,\u001b[49m\n\u001b[0;32m    877\u001b[0m \u001b[43m            \u001b[49m\u001b[43merrors\u001b[49m\u001b[38;5;241;43m=\u001b[39;49m\u001b[43merrors\u001b[49m\u001b[43m,\u001b[49m\n\u001b[0;32m    878\u001b[0m \u001b[43m            \u001b[49m\u001b[43mnewline\u001b[49m\u001b[38;5;241;43m=\u001b[39;49m\u001b[38;5;124;43m\"\u001b[39;49m\u001b[38;5;124;43m\"\u001b[39;49m\u001b[43m,\u001b[49m\n\u001b[0;32m    879\u001b[0m \u001b[43m        \u001b[49m\u001b[43m)\u001b[49m\n\u001b[0;32m    880\u001b[0m     \u001b[38;5;28;01melse\u001b[39;00m:\n\u001b[0;32m    881\u001b[0m         \u001b[38;5;66;03m# Binary mode\u001b[39;00m\n\u001b[0;32m    882\u001b[0m         handle \u001b[38;5;241m=\u001b[39m \u001b[38;5;28mopen\u001b[39m(handle, ioargs\u001b[38;5;241m.\u001b[39mmode)\n",
      "\u001b[1;31mFileNotFoundError\u001b[0m: [Errno 2] No such file or directory: 'housing_price_dataset.csv'"
     ]
    }
   ],
   "source": [
    "import numpy as np \n",
    "import pandas as pd \n",
    "\n",
    "csvfile = pd.read_csv('housing_price_dataset.csv')\n",
    "print(csvfile.head(6), \"\\n\\n\")\n",
    "# print(csvfile.describe(include= \"all\"), \"\\n\\n\")\n",
    "print(csvfile.describe(), \"\\n\\n\")\n",
    "print(csvfile.loc[2],\"\\n\\n\")\n",
    "print(csvfile.loc[2, \"Price\"],\"\\n\\n\")\n",
    "print(csvfile.info(),\"\\n\\n\")\n",
    "print(csvfile.describe().loc[['mean','std']])"
   ]
  },
  {
   "cell_type": "markdown",
   "metadata": {},
   "source": [
    "Reading Json file"
   ]
  },
  {
   "cell_type": "code",
   "execution_count": 5,
   "metadata": {},
   "outputs": [
    {
     "name": "stdout",
     "output_type": "stream",
     "text": [
      "   SquareFeet  Bedrooms  Bathrooms Neighborhood  YearBuilt        Price\n",
      "0        2126         4          1        Rural       1969  215355.2836\n",
      "1        2459         3          2        Rural       1980  195014.2216\n",
      "2        1860         2          1       Suburb       1970  306891.0121\n",
      "3        2294         2          1        Urban       1996  206786.7872\n",
      "4        2130         5          2       Suburb       2001  272436.2391\n",
      "5        2095         2          3       Suburb       2020  198208.8039 \n",
      "\n",
      "\n",
      "         SquareFeet      Bedrooms     Bathrooms     YearBuilt          Price\n",
      "count  50000.000000  50000.000000  50000.000000  50000.000000   50000.000000\n",
      "mean    2006.374680      3.498700      1.995420   1985.404420  224827.325151\n",
      "std      575.513241      1.116326      0.815851     20.719377   76141.842966\n",
      "min     1000.000000      2.000000      1.000000   1950.000000  -36588.165400\n",
      "25%     1513.000000      3.000000      1.000000   1967.000000  169955.860250\n",
      "50%     2007.000000      3.000000      2.000000   1985.000000  225052.141150\n",
      "75%     2506.000000      4.000000      3.000000   2003.000000  279373.630025\n",
      "max     2999.000000      5.000000      3.000000   2021.000000  492195.260000 \n",
      "\n",
      "\n",
      "SquareFeet             1860\n",
      "Bedrooms                  2\n",
      "Bathrooms                 1\n",
      "Neighborhood         Suburb\n",
      "YearBuilt              1970\n",
      "Price           306891.0121\n",
      "Name: 2, dtype: object \n",
      "\n",
      "\n",
      "306891.0121 \n",
      "\n",
      "\n",
      "<class 'pandas.core.frame.DataFrame'>\n",
      "RangeIndex: 50000 entries, 0 to 49999\n",
      "Data columns (total 6 columns):\n",
      " #   Column        Non-Null Count  Dtype  \n",
      "---  ------        --------------  -----  \n",
      " 0   SquareFeet    50000 non-null  int64  \n",
      " 1   Bedrooms      50000 non-null  int64  \n",
      " 2   Bathrooms     50000 non-null  int64  \n",
      " 3   Neighborhood  50000 non-null  object \n",
      " 4   YearBuilt     50000 non-null  int64  \n",
      " 5   Price         50000 non-null  float64\n",
      "dtypes: float64(1), int64(4), object(1)\n",
      "memory usage: 2.3+ MB\n",
      "None \n",
      "\n",
      "\n",
      "       SquareFeet  Bedrooms  Bathrooms    YearBuilt          Price\n",
      "mean  2006.374680  3.498700   1.995420  1985.404420  224827.325151\n",
      "std    575.513241  1.116326   0.815851    20.719377   76141.842966\n"
     ]
    }
   ],
   "source": [
    "jsonfile = pd.read_json('housing_price_dataset.json')\n",
    "print(jsonfile.head(6), \"\\n\\n\")\n",
    "# print(jsonfile.describe(include= \"all\"), \"\\n\\n\")\n",
    "print(jsonfile.describe(), \"\\n\\n\")\n",
    "print(jsonfile.loc[2],\"\\n\\n\")\n",
    "print(jsonfile.loc[2, \"Price\"],\"\\n\\n\")\n",
    "print(jsonfile.info(),\"\\n\\n\")\n",
    "print(jsonfile.describe().loc[['mean','std']])"
   ]
  },
  {
   "cell_type": "markdown",
   "metadata": {},
   "source": [
    "Reading excel file"
   ]
  },
  {
   "cell_type": "code",
   "execution_count": 8,
   "metadata": {},
   "outputs": [
    {
     "name": "stdout",
     "output_type": "stream",
     "text": [
      "   SquareFeet  Bedrooms  Bathrooms Neighborhood  YearBuilt          Price\n",
      "0        2126         4          1        Rural       1969  215355.283618\n",
      "1        2459         3          2        Rural       1980  195014.221626\n",
      "2        1860         2          1       Suburb       1970  306891.012076\n",
      "3        2294         2          1        Urban       1996  206786.787153\n",
      "4        2130         5          2       Suburb       2001  272436.239065\n",
      "5        2095         2          3       Suburb       2020  198208.803907 \n",
      "\n",
      "\n",
      "         SquareFeet      Bedrooms     Bathrooms     YearBuilt          Price\n",
      "count  50000.000000  50000.000000  50000.000000  50000.000000   50000.000000\n",
      "mean    2006.374680      3.498700      1.995420   1985.404420  224827.325151\n",
      "std      575.513241      1.116326      0.815851     20.719377   76141.842966\n",
      "min     1000.000000      2.000000      1.000000   1950.000000  -36588.165397\n",
      "25%     1513.000000      3.000000      1.000000   1967.000000  169955.860225\n",
      "50%     2007.000000      3.000000      2.000000   1985.000000  225052.141166\n",
      "75%     2506.000000      4.000000      3.000000   2003.000000  279373.630052\n",
      "max     2999.000000      5.000000      3.000000   2021.000000  492195.259972 \n",
      "\n",
      "\n",
      "SquareFeet               1860\n",
      "Bedrooms                    2\n",
      "Bathrooms                   1\n",
      "Neighborhood           Suburb\n",
      "YearBuilt                1970\n",
      "Price           306891.012076\n",
      "Name: 2, dtype: object \n",
      "\n",
      "\n",
      "306891.012076332 \n",
      "\n",
      "\n",
      "<class 'pandas.core.frame.DataFrame'>\n",
      "RangeIndex: 50000 entries, 0 to 49999\n",
      "Data columns (total 6 columns):\n",
      " #   Column        Non-Null Count  Dtype  \n",
      "---  ------        --------------  -----  \n",
      " 0   SquareFeet    50000 non-null  int64  \n",
      " 1   Bedrooms      50000 non-null  int64  \n",
      " 2   Bathrooms     50000 non-null  int64  \n",
      " 3   Neighborhood  50000 non-null  object \n",
      " 4   YearBuilt     50000 non-null  int64  \n",
      " 5   Price         50000 non-null  float64\n",
      "dtypes: float64(1), int64(4), object(1)\n",
      "memory usage: 2.3+ MB\n",
      "None \n",
      "\n",
      "\n",
      "       SquareFeet  Bedrooms  Bathrooms    YearBuilt          Price\n",
      "mean  2006.374680  3.498700   1.995420  1985.404420  224827.325151\n",
      "std    575.513241  1.116326   0.815851    20.719377   76141.842966\n"
     ]
    }
   ],
   "source": [
    "excelfile = pd.read_excel('housing_price_dataset.xls')\n",
    "print(excelfile.head(6), \"\\n\\n\")\n",
    "# print(excelfile.describe(include= \"all\"), \"\\n\\n\")\n",
    "print(excelfile.describe(), \"\\n\\n\")\n",
    "print(excelfile.loc[2],\"\\n\\n\")\n",
    "print(excelfile.loc[2, \"Price\"],\"\\n\\n\")\n",
    "print(excelfile.info(),\"\\n\\n\")\n",
    "print(excelfile.describe().loc[['mean','std']])"
   ]
  },
  {
   "cell_type": "markdown",
   "metadata": {},
   "source": [
    "Reading text file"
   ]
  },
  {
   "cell_type": "code",
   "execution_count": null,
   "metadata": {},
   "outputs": [
    {
     "name": "stdout",
     "output_type": "stream",
     "text": [
      "ÿþS\u0000q\u0000u\u0000a\u0000r\u0000e\u0000F\u0000e\u0000e\u0000t\u0000\t\u0000B\u0000e\u0000d\u0000r\u0000o\u0000o\u0000m\u0000s\u0000\t\u0000B\u0000a\u0000t\u0000h\u0000r\u0000o\u0000o\u0000m\u0000s\u0000\t\u0000N\u0000e\u0000i\u0000g\u0000h\u0000b\u0000o\u0000r\u0000h\u0000o\u0000o\u0000d\u0000\t\u0000Y\u0000e\u0000a\u0000r\u0000B\u0000u\u0000i\u0000l\u0000t\u0000\t\u0000P\u0000r\u0000i\u0000c\u0000e\u0000\n",
      "\u0000\n",
      "\u00002\u00001\u00002\u00006\u0000\t\u00004\u0000\t\u00001\u0000\t\u0000R\u0000u\u0000r\u0000a\u0000l\u0000\t\u00001\u00009\u00006\u00009\u0000\t\u00002\u00001\u00005\u00003\u00005\u00005\u0000.\u00002\u00008\u00003\u00006\u0000\n",
      "\u0000\n",
      "\u00002\u00004\u00005\u00009\u0000\t\u00003\u0000\t\u00002\u0000\t\u0000R\u0000u\u0000r\u0000a\u0000l\u0000\t\u00001\u00009\u00008\u00000\u0000\t\u00001\u00009\u00005\u00000\u00001\u00004\u0000.\u00002\u00002\u00001\u00006\u0000\n",
      "\u0000\n",
      "\u00001\u00008\u00006\u00000\u0000\t\u00002\u0000\t\u00001\u0000\t\u0000S\u0000u\u0000b\u0000u\u0000r\u0000b\u0000\t\u00001\u00009\u00007\u00000\u0000\t\u00003\u00000\u00006\u00008\u00009\u00001\u0000.\u00000\u00001\u00002\u00001\u0000\n",
      "\u0000\n",
      "\u00002\u00002\u00009\u00004\u0000\t\u00002\u0000\t\u00001\u0000\t\u0000U\u0000r\u0000b\u0000a\u0000n\u0000\t\u00001\u00009\u00009\u00006\u0000\t\u00002\u00000\u00006\u00007\u00008\u00006\u0000.\u00007\u00008\u00007\u00002\u0000\n",
      "\u0000\n",
      "\u00002\u00001\u00003\u00000\u0000\t\u00005\u0000\t\u00002\u0000\t\u0000S\u0000u\u0000b\u0000u\u0000r\u0000b\u0000\t\u00002\u00000\u00000\u00001\u0000\t\u00002\u00007\u00002\u00004\u00003\u00006\u0000.\u00002\u00003\u00009\u00001\u0000\n",
      "\u0000\n",
      "\u00002\u00000\u00009\u00005\u0000\t\u00002\u0000\t\u00003\u0000\t\u0000S\u0000u\u0000b\u0000u\u0000r\u0000b\u0000\t\u00002\u00000\u00002\u00000\u0000\t\u00001\u00009\u00008\u00002\u00000\u00008\u0000.\u00008\u00000\u00003\u00009\u0000\n",
      "\u0000\n",
      "\u00002\u00007\u00002\u00004\u0000\t\u00002\u0000\t\u00001\u0000\t\u0000S\u0000u\u0000b\u0000u\u0000r\u0000b\u0000\t\u00001\u00009\u00009\u00003\u0000\t\u00003\u00004\u00003\u00004\u00002\u00009\u0000.\u00003\u00001\u00009\u00001\u0000\n",
      "\u0000\n",
      "\u00002\u00000\u00004\u00004\u0000\t\u00004\u0000\t\u00003\u0000\t\u0000R\u0000u\u0000r\u0000a\u0000l\u0000\t\u00001\u00009\u00005\u00007\u0000\t\u00001\u00008\u00004\u00009\u00009\u00002\u0000.\u00003\u00002\u00001\u00003\u0000\n",
      "\u0000\n",
      "\u00002\u00006\u00003\u00008\u0000\t\u00004\u0000\t\u00003\u0000\t\u0000U\u0000r\u0000b\u0000a\u0000n\u0000\t\u00001\u00009\u00005\u00009\u0000\t\u00003\u00007\u00007\u00009\u00009\u00008\u0000.\u00005\u00008\u00008\u00002\u0000\n",
      "\u0000\n",
      "\u00001\u00001\u00002\u00001\u0000\t\u00005\u0000\t\u00002\u0000\t\u0000U\u0000r\u0000b\u0000a\u0000n\u0000\t\u00002\u00000\u00000\u00004\u0000\t\u00009\u00005\u00009\u00006\u00001\u0000.\u00009\u00002\u00006\u00000\u00001\u0000\n",
      "\u0000\n",
      "\u00001\u00004\u00006\u00006\u0000\t\u00005\u0000\t\u00003\u0000\t\u0000S\u0000u\u0000b\u0000u\u0000r\u0000b\u0000\t\u00001\u00009\u00005\u00001\u0000\t\u00001\u00009\u00001\u00001\u00001\u00003\u0000.\u00007\u00006\u00008\u00007\u0000\n",
      "\u0000\n",
      "\u00002\u00002\u00003\u00008\u0000\t\u00003\u0000\t\u00003\u0000\t\u0000S\u0000u\u0000b\u0000u\u0000r\u0000b\u0000\t\u00001\u00009\u00008\u00007\u0000\t\u00002\u00005\u00003\u00003\u00005\u00008\u0000.\u00006\u00004\u00005\u0000\n",
      "\u0000\n",
      "\u00001\u00003\u00003\u00000\u0000\t\u00002\u0000\t\u00002\u0000\t\u0000S\u0000u\u0000b\u0000u\u0000r\u0000b\u0000\t\u00001\u00009\u00009\u00002\u0000\t\u00001\u00003\u00002\u00001\u00007\u00002\u0000.\u00003\u00009\u00002\u00006\u0000\n"
     ]
    }
   ],
   "source": [
    "textfile = open('housing_price_dataset.txt')\n",
    "content = textfile.read()\n",
    "print(content)"
   ]
  },
  {
   "cell_type": "markdown",
   "metadata": {},
   "source": [
    "Reading Zip file"
   ]
  },
  {
   "cell_type": "code",
   "execution_count": null,
   "metadata": {},
   "outputs": [],
   "source": [
    "import zipfile\n",
    "data = zipfile.ZipFile('housing_price_dataset.zip', 'r')\n",
    "data1 = data.read('housing_price_dataset.txt')\n",
    "print(data1)"
   ]
  },
  {
   "cell_type": "markdown",
   "metadata": {},
   "source": [
    "Vizualization"
   ]
  },
  {
   "cell_type": "code",
   "execution_count": 18,
   "metadata": {},
   "outputs": [
    {
     "data": {
      "image/png": "[encoded data removed]",
      "text/plain": [
       "<Figure size 640x480 with 1 Axes>"
      ]
     },
     "metadata": {},
     "output_type": "display_data"
    },
    {
     "data": {
      "image/png": "[encoded data removed]",
      "text/plain": [
       "<Figure size 640x480 with 1 Axes>"
      ]
     },
     "metadata": {},
     "output_type": "display_data"
    }
   ],
   "source": [
    "import matplotlib.pyplot as plt \n",
    "import pandas as pd\n",
    "import numpy as np\n",
    "data = pd.read_csv('housing_price_dataset.csv', nrows= 10)\n",
    "plt.hist(data['Price'], color='green')\n",
    "plt.show()\n",
    "x = np.array(data['SquareFeet'])\n",
    "y = np.array(data['Price'])\n",
    "plt.bar(x, y, color = 'red')\n",
    "plt.xlabel(\"Square Feet\")\n",
    "plt.ylabel(\"Price\")\n",
    "plt.title(\"housing price prediction\")\n",
    "plt.show()\n",
    "# print(\"Hello\")"
   ]
  }
 ],
 "metadata": {
  "kernelspec": {
   "display_name": "Python 3",
   "language": "python",
   "name": "python3"
  },
  "language_info": {
   "codemirror_mode": {
    "name": "ipython",
    "version": 3
   },
   "file_extension": ".py",
   "mimetype": "text/x-python",
   "name": "python",
   "nbconvert_exporter": "python",
   "pygments_lexer": "ipython3",
   "version": "3.11.8"
  }
 },
 "nbformat": 4,
 "nbformat_minor": 2
}
